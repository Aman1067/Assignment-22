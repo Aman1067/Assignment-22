{
 "cells": [
  {
   "cell_type": "markdown",
   "id": "98f4a435",
   "metadata": {},
   "source": [
    "1. What is the result of the code, and explain?\n",
    ">>> X = 'iNeuron'\n",
    "\n",
    ">>> def func():\n",
    "\n",
    "print(X)\n",
    "\n",
    ">>> func()"
   ]
  },
  {
   "cell_type": "code",
   "execution_count": 10,
   "id": "eaacec75",
   "metadata": {},
   "outputs": [
    {
     "name": "stdout",
     "output_type": "stream",
     "text": [
      "iNeuron\n"
     ]
    }
   ],
   "source": [
    ">>> X = 'iNeuron'\n",
    "\n",
    ">>> def func():\n",
    "\n",
    "        print(X)\n",
    "\n",
    ">>> func()\n",
    "#When the print(X) statement is executed within the function func(), it accesses the value of the global variable X which is 'iNeuron'. Therefore, the output of the code will be 'iNeuron'. The function can access the global variable X because it is defined outside the function's scope."
   ]
  },
  {
   "cell_type": "markdown",
   "id": "406f82ce",
   "metadata": {},
   "source": [
    "2. What is the result of the code, and explain?\n",
    ">>> X = 'iNeuron'\n",
    "\n",
    ">>> def func():\n",
    "\n",
    "X = 'NI!'\n",
    "\n",
    ">>> func()\n",
    "\n",
    ">>> print(X)"
   ]
  },
  {
   "cell_type": "code",
   "execution_count": 11,
   "id": "bcc784fa",
   "metadata": {},
   "outputs": [
    {
     "name": "stdout",
     "output_type": "stream",
     "text": [
      "iNeuron\n"
     ]
    }
   ],
   "source": [
    ">>> X = 'iNeuron'\n",
    "\n",
    ">>> def func():\n",
    "\n",
    "        X = 'NI!'\n",
    "\n",
    ">>> func()\n",
    "\n",
    ">>> print(X)\n",
    "\n",
    "#The function func() only modifies a local variable X within its scope, which doesn't affect the global variable X. Thus, when print(X) is executed, it will print the value of the unchanged global variable X as 'iNeuron'."
   ]
  },
  {
   "cell_type": "markdown",
   "id": "200634b4",
   "metadata": {},
   "source": [
    "3. What does this code print, and why?\n",
    ">>> X = 'iNeuron'\n",
    "\n",
    ">>> def func():\n",
    "\n",
    "X = 'NI'\n",
    "\n",
    "print(X)\n",
    "\n",
    ">>> func()\n",
    "\n",
    ">>> print(X)"
   ]
  },
  {
   "cell_type": "code",
   "execution_count": 14,
   "id": "c433de85",
   "metadata": {},
   "outputs": [
    {
     "name": "stdout",
     "output_type": "stream",
     "text": [
      "NI\n",
      "iNeuron\n"
     ]
    }
   ],
   "source": [
    ">>> X = 'iNeuron'\n",
    "\n",
    ">>> def func():\n",
    "\n",
    "        X = 'NI'\n",
    "\n",
    "        print(X)\n",
    "\n",
    ">>> func()\n",
    "\n",
    ">>> print(X)\n",
    "#When the function func() is called using func(), it executes the code within the function, which includes printing the value of the local variable X.\n",
    "#After the function call, the print(X) statement outside the function is executed. It prints the value of the global variable X, which remains unchanged as 'iNeuron', resulting in the output 'iNeuron'."
   ]
  },
  {
   "cell_type": "markdown",
   "id": "8fc9565c",
   "metadata": {},
   "source": [
    "4. What output does this code produce? Why?\n",
    ">>> X = 'iNeuron'\n",
    "\n",
    ">>> def func():\n",
    "\n",
    "global X\n",
    "\n",
    "X = 'NI'\n",
    "\n",
    ">>> func()\n",
    "\n",
    ">>> print(X)"
   ]
  },
  {
   "cell_type": "code",
   "execution_count": 15,
   "id": "1959d358",
   "metadata": {},
   "outputs": [
    {
     "name": "stdout",
     "output_type": "stream",
     "text": [
      "NI\n"
     ]
    }
   ],
   "source": [
    ">>> X = 'iNeuron'\n",
    "\n",
    ">>> def func():\n",
    "\n",
    "        global X\n",
    "\n",
    "        X = 'NI'\n",
    "\n",
    ">>> func()\n",
    "\n",
    ">>> print(X)\n",
    "#When the function func() is called using func(), it executes the code within the function. The global X statement allows us to modify the global variable X. Therefore, the assignment statement X = 'NI' inside the function updates the value of the global variable X to 'NI'."
   ]
  },
  {
   "cell_type": "markdown",
   "id": "73906806",
   "metadata": {},
   "source": [
    "5. What about this code—what’s the output, and why?\n",
    ">>> X = 'iNeuron'\n",
    "\n",
    ">>> def func():\n",
    "\n",
    "X = 'NI'\n",
    "\n",
    "def nested():\n",
    "\n",
    "print(X)\n",
    "\n",
    "nested()\n",
    "\n",
    ">>> func()\n",
    "\n",
    ">>> X"
   ]
  },
  {
   "cell_type": "code",
   "execution_count": 16,
   "id": "ba8dabd9",
   "metadata": {},
   "outputs": [
    {
     "name": "stdout",
     "output_type": "stream",
     "text": [
      "iNeuron\n"
     ]
    },
    {
     "data": {
      "text/plain": [
       "'iNeuron'"
      ]
     },
     "execution_count": 16,
     "metadata": {},
     "output_type": "execute_result"
    }
   ],
   "source": [
    ">>> X = 'iNeuron'\n",
    "\n",
    ">>> def func():\n",
    "\n",
    "        X = 'NI'\n",
    "\n",
    "def nested():\n",
    "\n",
    "    print(X)\n",
    "\n",
    "nested()\n",
    "\n",
    ">>> func()\n",
    "\n",
    ">>> X\n",
    "# When the func() function is called using func(), it executes the code within the function, including the nested() function call. Thus, the print(X) statement within nested() is executed, resulting in the output 'NI'.\n",
    "\n",
    "# However, when the code reaches the line X outside of any functions, it refers to the global variable X defined at the beginning of the code. Therefore, the value of X is 'iNeuron'."
   ]
  },
  {
   "cell_type": "markdown",
   "id": "aaf39ff3",
   "metadata": {},
   "source": [
    "6. How about this code: what is its output in Python 3, and explain?\n",
    ">>> def func():\n",
    "\n",
    "X = 'NI'\n",
    "\n",
    "def nested():\n",
    "\n",
    "nonlocal X\n",
    "\n",
    "X = 'Spam'\n",
    "\n",
    "nested()\n",
    "\n",
    "print(X)\n",
    "\n",
    ">>> func()"
   ]
  },
  {
   "cell_type": "code",
   "execution_count": 19,
   "id": "3a3100ab",
   "metadata": {},
   "outputs": [
    {
     "name": "stdout",
     "output_type": "stream",
     "text": [
      "Spam\n"
     ]
    }
   ],
   "source": [
    ">>> def func():\n",
    "\n",
    "        X = 'NI'\n",
    "\n",
    "        def nested():\n",
    "\n",
    "            nonlocal X\n",
    "\n",
    "            X = 'Spam'\n",
    "\n",
    "        nested()\n",
    "\n",
    "        print(X)\n",
    "\n",
    ">>> func()\n",
    "# The use of the nonlocal keyword allows us to modify the value of a variable in the nearest enclosing scope from within a nested function.\n",
    "# Hence the output of func() is 'Spam'"
   ]
  }
 ],
 "metadata": {
  "kernelspec": {
   "display_name": "Python 3 (ipykernel)",
   "language": "python",
   "name": "python3"
  },
  "language_info": {
   "codemirror_mode": {
    "name": "ipython",
    "version": 3
   },
   "file_extension": ".py",
   "mimetype": "text/x-python",
   "name": "python",
   "nbconvert_exporter": "python",
   "pygments_lexer": "ipython3",
   "version": "3.9.7"
  }
 },
 "nbformat": 4,
 "nbformat_minor": 5
}
